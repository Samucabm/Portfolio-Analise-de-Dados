{
 "cells": [
  {
   "cell_type": "markdown",
   "id": "8db78b99",
   "metadata": {},
   "source": [
    "# # Projeto 5: Relatório Gerencial de Vendas por Categoria\n",
    "# \n",
    "# ## Objetivo\n",
    "# Analisar um dataset de vendas para criar um relatório sumarizado que demonstre a performance de cada categoria de produto, calculando KPIs essenciais para a tomada de decisão gerencial."
   ]
  },
  {
   "cell_type": "code",
   "execution_count": 25,
   "id": "ad5dbe30",
   "metadata": {},
   "outputs": [],
   "source": [
    "# Código (Importação e Carregamento)\n",
    "\n",
    "import pandas as pd\n",
    "\n",
    "df_vendas = pd.read_csv('vendas.csv')"
   ]
  },
  {
   "cell_type": "markdown",
   "id": "182a7d5a",
   "metadata": {},
   "source": [
    "# ## Análise de Performance por Categoria\n",
    "# Para gerar o relatório, vamos agrupar os dados pela coluna 'Categoria'. Em seguida, usaremos o método `.agg()` para aplicar múltiplas funções de agregação de uma só vez na coluna 'Valor'."
   ]
  },
  {
   "cell_type": "code",
   "execution_count": 27,
   "id": "006d5b3a",
   "metadata": {},
   "outputs": [],
   "source": [
    "# Código (Análise com groupby e agg)\n",
    "# 1. df_vendas.groupby('Categoria'): Agrupa o DataFrame em 'Eletronicos', 'Livros' e 'Vestuario'.\n",
    "# 2. ['Valor']: Especifica que os cálculos serão feitos na coluna 'Valor' de cada grupo.\n",
    "# 3. .agg([...]): Aplica uma lista de funções de agregação a cada grupo:\n",
    "#    - 'sum': Calcula a receita total.\n",
    "#    - 'count': Conta o número de vendas (itens vendidos).\n",
    "#    - 'mean': Calcula a venda média por item.\n",
    "\n",
    "relatorio_gerencial = df_vendas.groupby('Categoria')['Valor'].agg(['sum', 'count', 'mean'])\n",
    "\n",
    "# --- Refinando o Nome das Colunas para Clareza ---\n",
    "# O resultado do .agg() é ótimo, mas os nomes das colunas ('sum', 'count', 'mean') podem ser melhorados.\n",
    "# Vamos renomeá-las para que o relatório fique mais claro para um gerente.\n",
    "\n",
    "relatorio_gerencial.rename(columns={\n",
    "    'sum': 'Receita Total (R$)',\n",
    "    'count': 'Nº de Vendas',\n",
    "    'mean': 'Ticket Médio (R$)'\n",
    "}, inplace=True)"
   ]
  },
  {
   "cell_type": "markdown",
   "id": "fc4eb22d",
   "metadata": {},
   "source": [
    "# ## Relatório Final"
   ]
  },
  {
   "cell_type": "code",
   "execution_count": 28,
   "id": "cdb00e9c",
   "metadata": {},
   "outputs": [
    {
     "name": "stdout",
     "output_type": "stream",
     "text": [
      "--- Relatório Gerencial de Vendas por Categoria ---\n"
     ]
    },
    {
     "data": {
      "text/html": [
       "<div>\n",
       "<style scoped>\n",
       "    .dataframe tbody tr th:only-of-type {\n",
       "        vertical-align: middle;\n",
       "    }\n",
       "\n",
       "    .dataframe tbody tr th {\n",
       "        vertical-align: top;\n",
       "    }\n",
       "\n",
       "    .dataframe thead th {\n",
       "        text-align: right;\n",
       "    }\n",
       "</style>\n",
       "<table border=\"1\" class=\"dataframe\">\n",
       "  <thead>\n",
       "    <tr style=\"text-align: right;\">\n",
       "      <th></th>\n",
       "      <th>Receita Total (R$)</th>\n",
       "      <th>Nº de Vendas</th>\n",
       "      <th>Ticket Médio (R$)</th>\n",
       "    </tr>\n",
       "    <tr>\n",
       "      <th>Categoria</th>\n",
       "      <th></th>\n",
       "      <th></th>\n",
       "      <th></th>\n",
       "    </tr>\n",
       "  </thead>\n",
       "  <tbody>\n",
       "    <tr>\n",
       "      <th>Eletronicos</th>\n",
       "      <td>3549.9</td>\n",
       "      <td>3</td>\n",
       "      <td>1183.30</td>\n",
       "    </tr>\n",
       "    <tr>\n",
       "      <th>Livros</th>\n",
       "      <td>95.5</td>\n",
       "      <td>2</td>\n",
       "      <td>47.75</td>\n",
       "    </tr>\n",
       "    <tr>\n",
       "      <th>Vestuario</th>\n",
       "      <td>325.0</td>\n",
       "      <td>2</td>\n",
       "      <td>162.50</td>\n",
       "    </tr>\n",
       "  </tbody>\n",
       "</table>\n",
       "</div>"
      ],
      "text/plain": [
       "             Receita Total (R$)  Nº de Vendas  Ticket Médio (R$)\n",
       "Categoria                                                       \n",
       "Eletronicos              3549.9             3            1183.30\n",
       "Livros                     95.5             2              47.75\n",
       "Vestuario                 325.0             2             162.50"
      ]
     },
     "metadata": {},
     "output_type": "display_data"
    }
   ],
   "source": [
    "# Código (Apresentação do Resultado)\n",
    "\n",
    "print(\"--- Relatório Gerencial de Vendas por Categoria ---\")\n",
    "display(relatorio_gerencial)"
   ]
  }
 ],
 "metadata": {
  "kernelspec": {
   "display_name": "base",
   "language": "python",
   "name": "python3"
  },
  "language_info": {
   "codemirror_mode": {
    "name": "ipython",
    "version": 3
   },
   "file_extension": ".py",
   "mimetype": "text/x-python",
   "name": "python",
   "nbconvert_exporter": "python",
   "pygments_lexer": "ipython3",
   "version": "3.13.5"
  }
 },
 "nbformat": 4,
 "nbformat_minor": 5
}
