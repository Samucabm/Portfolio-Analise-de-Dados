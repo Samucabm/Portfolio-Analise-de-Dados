{
 "cells": [
  {
   "cell_type": "markdown",
   "id": "b9771e11",
   "metadata": {},
   "source": [
    "# Custo Médio por Categoria.\n",
    " Usando um dataset de produtos com 'categoria' e 'preco', calcule o preço médio dos produtos em cada categoria.\n",
    "  Foco: Prática direcionada de .groupby().mean()."
   ]
  },
  {
   "cell_type": "code",
   "execution_count": 1,
   "id": "b06753d9",
   "metadata": {},
   "outputs": [],
   "source": [
    "import pandas as pd"
   ]
  },
  {
   "cell_type": "code",
   "execution_count": 2,
   "id": "fe4bb95f",
   "metadata": {},
   "outputs": [],
   "source": [
    "df = pd.read_csv('../vendas.csv')"
   ]
  },
  {
   "cell_type": "code",
   "execution_count": 4,
   "id": "08c4dcb4",
   "metadata": {},
   "outputs": [
    {
     "data": {
      "text/html": [
       "<div>\n",
       "<style scoped>\n",
       "    .dataframe tbody tr th:only-of-type {\n",
       "        vertical-align: middle;\n",
       "    }\n",
       "\n",
       "    .dataframe tbody tr th {\n",
       "        vertical-align: top;\n",
       "    }\n",
       "\n",
       "    .dataframe thead th {\n",
       "        text-align: right;\n",
       "    }\n",
       "</style>\n",
       "<table border=\"1\" class=\"dataframe\">\n",
       "  <thead>\n",
       "    <tr style=\"text-align: right;\">\n",
       "      <th></th>\n",
       "      <th>ID_Venda</th>\n",
       "      <th>ID_Produto</th>\n",
       "      <th>Categoria</th>\n",
       "      <th>Valor</th>\n",
       "      <th>Data</th>\n",
       "    </tr>\n",
       "  </thead>\n",
       "  <tbody>\n",
       "    <tr>\n",
       "      <th>0</th>\n",
       "      <td>101</td>\n",
       "      <td>1</td>\n",
       "      <td>Eletronicos</td>\n",
       "      <td>1200.0</td>\n",
       "      <td>2024-01-02</td>\n",
       "    </tr>\n",
       "    <tr>\n",
       "      <th>1</th>\n",
       "      <td>102</td>\n",
       "      <td>3</td>\n",
       "      <td>Livros</td>\n",
       "      <td>45.5</td>\n",
       "      <td>2024-01-03</td>\n",
       "    </tr>\n",
       "    <tr>\n",
       "      <th>2</th>\n",
       "      <td>103</td>\n",
       "      <td>2</td>\n",
       "      <td>Vestuario</td>\n",
       "      <td>150.0</td>\n",
       "      <td>2024-01-04</td>\n",
       "    </tr>\n",
       "    <tr>\n",
       "      <th>3</th>\n",
       "      <td>104</td>\n",
       "      <td>1</td>\n",
       "      <td>Eletronicos</td>\n",
       "      <td>1350.0</td>\n",
       "      <td>2024-01-05</td>\n",
       "    </tr>\n",
       "    <tr>\n",
       "      <th>4</th>\n",
       "      <td>105</td>\n",
       "      <td>4</td>\n",
       "      <td>Eletronicos</td>\n",
       "      <td>999.9</td>\n",
       "      <td>2024-01-06</td>\n",
       "    </tr>\n",
       "  </tbody>\n",
       "</table>\n",
       "</div>"
      ],
      "text/plain": [
       "   ID_Venda  ID_Produto    Categoria   Valor        Data\n",
       "0       101           1  Eletronicos  1200.0  2024-01-02\n",
       "1       102           3       Livros    45.5  2024-01-03\n",
       "2       103           2    Vestuario   150.0  2024-01-04\n",
       "3       104           1  Eletronicos  1350.0  2024-01-05\n",
       "4       105           4  Eletronicos   999.9  2024-01-06"
      ]
     },
     "execution_count": 4,
     "metadata": {},
     "output_type": "execute_result"
    }
   ],
   "source": [
    "df.head()"
   ]
  },
  {
   "cell_type": "code",
   "execution_count": 5,
   "id": "1626d903",
   "metadata": {},
   "outputs": [
    {
     "data": {
      "text/plain": [
       "Categoria\n",
       "Eletronicos    1183.30\n",
       "Livros           47.75\n",
       "Vestuario       162.50\n",
       "Name: Valor, dtype: float64"
      ]
     },
     "execution_count": 5,
     "metadata": {},
     "output_type": "execute_result"
    }
   ],
   "source": [
    "df.groupby('Categoria')['Valor'].mean()"
   ]
  }
 ],
 "metadata": {
  "kernelspec": {
   "display_name": "base",
   "language": "python",
   "name": "python3"
  },
  "language_info": {
   "codemirror_mode": {
    "name": "ipython",
    "version": 3
   },
   "file_extension": ".py",
   "mimetype": "text/x-python",
   "name": "python",
   "nbconvert_exporter": "python",
   "pygments_lexer": "ipython3",
   "version": "3.13.5"
  }
 },
 "nbformat": 4,
 "nbformat_minor": 5
}
