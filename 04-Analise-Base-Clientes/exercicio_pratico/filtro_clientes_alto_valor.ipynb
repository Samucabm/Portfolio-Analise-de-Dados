{
 "cells": [
  {
   "cell_type": "markdown",
   "id": "edcb3449",
   "metadata": {},
   "source": [
    "# Filtro de Clientes de Alto Valor.\n",
    " Carregue um CSV de clientes com uma coluna 'gasto_total' e selecione e exiba apenas os clientes que gastaram mais de R$1.000. Foco: Leitura de CSV e filtragem booleana."
   ]
  },
  {
   "cell_type": "code",
   "execution_count": 18,
   "id": "fbeb0eca",
   "metadata": {},
   "outputs": [],
   "source": [
    "# --- 1. Importação da Biblioteca ---\n",
    "# Importa a biblioteca pandas, essencial para manipulação de dados tabulares em Python.\n",
    "import pandas as pd"
   ]
  },
  {
   "cell_type": "code",
   "execution_count": 19,
   "id": "ce8dd7cd",
   "metadata": {},
   "outputs": [],
   "source": [
    "# --- 2. Carregamento dos Dados ---\n",
    "# Carrega o dataset a partir do arquivo 'clientes.csv' para um DataFrame do Pandas.\n",
    "# Um DataFrame é uma estrutura de dados bidimensional, similar a uma planilha.\n",
    "df_clientes = pd.read_csv('../clientes.csv')"
   ]
  },
  {
   "cell_type": "code",
   "execution_count": 20,
   "id": "6066cb86",
   "metadata": {},
   "outputs": [],
   "source": [
    "# --- 3. Filtragem Lógica (Boolean Filtering) ---\n",
    "# Esta é a linha principal da análise, onde a \"mágica\" acontece.\n",
    "#\n",
    "# a) df_clientes['Gasto_Total'] > 1000:\n",
    "#    Isso cria uma \"máscara\" booleana (uma Series de True/False). Para cada linha\n",
    "#    do DataFrame, ele verifica se o valor na coluna 'Gasto_Total' é maior que 1000.\n",
    "#\n",
    "# b) df_clientes.loc[...]:\n",
    "#    O método .loc é usado para selecionar linhas. Ao passar a máscara booleana para ele,\n",
    "#    ele retorna um novo DataFrame contendo apenas as linhas onde a máscara era True.\n",
    "#\n",
    "# O resultado é armazenado em uma nova variável com nome claro.\n",
    "clientes_alto_valor = df_clientes.loc[df_clientes['Gasto_Total'] > 1000]\n"
   ]
  },
  {
   "cell_type": "code",
   "execution_count": 21,
   "id": "cd37f2b0",
   "metadata": {},
   "outputs": [
    {
     "name": "stdout",
     "output_type": "stream",
     "text": [
      "--- Relatório: Clientes com Gasto Total superior a R$ 1.000 ---\n"
     ]
    },
    {
     "data": {
      "text/html": [
       "<div>\n",
       "<style scoped>\n",
       "    .dataframe tbody tr th:only-of-type {\n",
       "        vertical-align: middle;\n",
       "    }\n",
       "\n",
       "    .dataframe tbody tr th {\n",
       "        vertical-align: top;\n",
       "    }\n",
       "\n",
       "    .dataframe thead th {\n",
       "        text-align: right;\n",
       "    }\n",
       "</style>\n",
       "<table border=\"1\" class=\"dataframe\">\n",
       "  <thead>\n",
       "    <tr style=\"text-align: right;\">\n",
       "      <th></th>\n",
       "      <th>ID_Cliente</th>\n",
       "      <th>Nome</th>\n",
       "      <th>Email</th>\n",
       "      <th>Pais</th>\n",
       "      <th>Data_Cadastro</th>\n",
       "      <th>Gasto_Total</th>\n",
       "    </tr>\n",
       "  </thead>\n",
       "  <tbody>\n",
       "    <tr>\n",
       "      <th>0</th>\n",
       "      <td>1</td>\n",
       "      <td>Ana Silva</td>\n",
       "      <td>ana.silva@email.com</td>\n",
       "      <td>Brasil</td>\n",
       "      <td>2024-01-15</td>\n",
       "      <td>1500.50</td>\n",
       "    </tr>\n",
       "    <tr>\n",
       "      <th>2</th>\n",
       "      <td>3</td>\n",
       "      <td>Maria Garcia</td>\n",
       "      <td>maria.garcia@email.com</td>\n",
       "      <td>Espanha</td>\n",
       "      <td>2024-03-10</td>\n",
       "      <td>2200.75</td>\n",
       "    </tr>\n",
       "    <tr>\n",
       "      <th>5</th>\n",
       "      <td>6</td>\n",
       "      <td>Bruce Wayne</td>\n",
       "      <td>bruce.wayne@email.com</td>\n",
       "      <td>NaN</td>\n",
       "      <td>2024-06-01</td>\n",
       "      <td>5000.00</td>\n",
       "    </tr>\n",
       "    <tr>\n",
       "      <th>7</th>\n",
       "      <td>8</td>\n",
       "      <td>Sakura Tanaka</td>\n",
       "      <td>sakura.t@email.com</td>\n",
       "      <td>Japao</td>\n",
       "      <td>2024-08-19</td>\n",
       "      <td>3250.00</td>\n",
       "    </tr>\n",
       "  </tbody>\n",
       "</table>\n",
       "</div>"
      ],
      "text/plain": [
       "   ID_Cliente           Nome                   Email     Pais Data_Cadastro  \\\n",
       "0           1      Ana Silva     ana.silva@email.com   Brasil    2024-01-15   \n",
       "2           3   Maria Garcia  maria.garcia@email.com  Espanha    2024-03-10   \n",
       "5           6    Bruce Wayne   bruce.wayne@email.com      NaN    2024-06-01   \n",
       "7           8  Sakura Tanaka      sakura.t@email.com    Japao    2024-08-19   \n",
       "\n",
       "   Gasto_Total  \n",
       "0      1500.50  \n",
       "2      2200.75  \n",
       "5      5000.00  \n",
       "7      3250.00  "
      ]
     },
     "metadata": {},
     "output_type": "display_data"
    }
   ],
   "source": [
    "# --- 4. Apresentação do Resultado ---\n",
    "# Imprime um título claro para o nosso relatório.\n",
    "print(\"--- Relatório: Clientes com Gasto Total superior a R$ 1.000 ---\")\n",
    "\n",
    "# A função display() é usada em ambientes como o Jupyter Notebook\n",
    "# para renderizar o DataFrame de uma forma mais elegante e legível.\n",
    "display(clientes_alto_valor)"
   ]
  }
 ],
 "metadata": {
  "kernelspec": {
   "display_name": "base",
   "language": "python",
   "name": "python3"
  },
  "language_info": {
   "codemirror_mode": {
    "name": "ipython",
    "version": 3
   },
   "file_extension": ".py",
   "mimetype": "text/x-python",
   "name": "python",
   "nbconvert_exporter": "python",
   "pygments_lexer": "ipython3",
   "version": "3.13.5"
  }
 },
 "nbformat": 4,
 "nbformat_minor": 5
}
