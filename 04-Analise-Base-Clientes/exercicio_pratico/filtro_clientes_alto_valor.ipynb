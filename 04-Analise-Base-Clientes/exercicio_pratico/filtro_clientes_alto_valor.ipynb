{
 "cells": [
  {
   "cell_type": "markdown",
   "id": "edcb3449",
   "metadata": {},
   "source": [
    "# Filtro de Clientes de Alto Valor.\n",
    " Carregue um CSV de clientes com uma coluna 'gasto_total' e selecione e exiba apenas os clientes que gastaram mais de R$1.000. Foco: Leitura de CSV e filtragem booleana."
   ]
  },
  {
   "cell_type": "code",
   "execution_count": 2,
   "id": "fbeb0eca",
   "metadata": {},
   "outputs": [],
   "source": [
    "import pandas as pd"
   ]
  },
  {
   "cell_type": "code",
   "execution_count": 5,
   "id": "ce8dd7cd",
   "metadata": {},
   "outputs": [],
   "source": [
    "df = pd.read_csv('clientes.csv')"
   ]
  },
  {
   "cell_type": "code",
   "execution_count": 8,
   "id": "6066cb86",
   "metadata": {},
   "outputs": [
    {
     "data": {
      "text/html": [
       "<div>\n",
       "<style scoped>\n",
       "    .dataframe tbody tr th:only-of-type {\n",
       "        vertical-align: middle;\n",
       "    }\n",
       "\n",
       "    .dataframe tbody tr th {\n",
       "        vertical-align: top;\n",
       "    }\n",
       "\n",
       "    .dataframe thead th {\n",
       "        text-align: right;\n",
       "    }\n",
       "</style>\n",
       "<table border=\"1\" class=\"dataframe\">\n",
       "  <thead>\n",
       "    <tr style=\"text-align: right;\">\n",
       "      <th></th>\n",
       "      <th>ID_Cliente</th>\n",
       "      <th>Nome</th>\n",
       "      <th>Email</th>\n",
       "      <th>Pais</th>\n",
       "      <th>Data_Cadastro</th>\n",
       "      <th>Gasto_Total</th>\n",
       "    </tr>\n",
       "  </thead>\n",
       "  <tbody>\n",
       "    <tr>\n",
       "      <th>0</th>\n",
       "      <td>1</td>\n",
       "      <td>Ana Silva</td>\n",
       "      <td>ana.silva@email.com</td>\n",
       "      <td>Brasil</td>\n",
       "      <td>2024-01-15</td>\n",
       "      <td>1500.50</td>\n",
       "    </tr>\n",
       "    <tr>\n",
       "      <th>1</th>\n",
       "      <td>2</td>\n",
       "      <td>John Smith</td>\n",
       "      <td>john.smith@email.com</td>\n",
       "      <td>EUA</td>\n",
       "      <td>2024-02-20</td>\n",
       "      <td>800.00</td>\n",
       "    </tr>\n",
       "    <tr>\n",
       "      <th>2</th>\n",
       "      <td>3</td>\n",
       "      <td>Maria Garcia</td>\n",
       "      <td>maria.garcia@email.com</td>\n",
       "      <td>Espanha</td>\n",
       "      <td>2024-03-10</td>\n",
       "      <td>2200.75</td>\n",
       "    </tr>\n",
       "    <tr>\n",
       "      <th>3</th>\n",
       "      <td>4</td>\n",
       "      <td>Ken Adams</td>\n",
       "      <td>ken.adams@email.com</td>\n",
       "      <td>EUA</td>\n",
       "      <td>2024-04-05</td>\n",
       "      <td>500.25</td>\n",
       "    </tr>\n",
       "    <tr>\n",
       "      <th>4</th>\n",
       "      <td>5</td>\n",
       "      <td>Lara Croft</td>\n",
       "      <td>lara.croft@email.com</td>\n",
       "      <td>Reino Unido</td>\n",
       "      <td>2024-05-22</td>\n",
       "      <td>950.00</td>\n",
       "    </tr>\n",
       "  </tbody>\n",
       "</table>\n",
       "</div>"
      ],
      "text/plain": [
       "   ID_Cliente          Nome                   Email         Pais  \\\n",
       "0           1     Ana Silva     ana.silva@email.com       Brasil   \n",
       "1           2    John Smith    john.smith@email.com          EUA   \n",
       "2           3  Maria Garcia  maria.garcia@email.com      Espanha   \n",
       "3           4     Ken Adams     ken.adams@email.com          EUA   \n",
       "4           5    Lara Croft    lara.croft@email.com  Reino Unido   \n",
       "\n",
       "  Data_Cadastro  Gasto_Total  \n",
       "0    2024-01-15      1500.50  \n",
       "1    2024-02-20       800.00  \n",
       "2    2024-03-10      2200.75  \n",
       "3    2024-04-05       500.25  \n",
       "4    2024-05-22       950.00  "
      ]
     },
     "execution_count": 8,
     "metadata": {},
     "output_type": "execute_result"
    }
   ],
   "source": [
    "df.head()"
   ]
  },
  {
   "cell_type": "code",
   "execution_count": 15,
   "id": "cd37f2b0",
   "metadata": {},
   "outputs": [
    {
     "name": "stdout",
     "output_type": "stream",
     "text": [
      "   ID_Cliente           Nome                   Email     Pais Data_Cadastro  \\\n",
      "0           1      Ana Silva     ana.silva@email.com   Brasil    2024-01-15   \n",
      "2           3   Maria Garcia  maria.garcia@email.com  Espanha    2024-03-10   \n",
      "5           6    Bruce Wayne   bruce.wayne@email.com      NaN    2024-06-01   \n",
      "7           8  Sakura Tanaka      sakura.t@email.com    Japao    2024-08-19   \n",
      "\n",
      "   Gasto_Total  \n",
      "0      1500.50  \n",
      "2      2200.75  \n",
      "5      5000.00  \n",
      "7      3250.00  \n"
     ]
    }
   ],
   "source": [
    "gasto_mil = df.loc[df['Gasto_Total'] > 1000]\n",
    "print(gasto_mil)"
   ]
  }
 ],
 "metadata": {
  "kernelspec": {
   "display_name": "base",
   "language": "python",
   "name": "python3"
  },
  "language_info": {
   "codemirror_mode": {
    "name": "ipython",
    "version": 3
   },
   "file_extension": ".py",
   "mimetype": "text/x-python",
   "name": "python",
   "nbconvert_exporter": "python",
   "pygments_lexer": "ipython3",
   "version": "3.13.5"
  }
 },
 "nbformat": 4,
 "nbformat_minor": 5
}
