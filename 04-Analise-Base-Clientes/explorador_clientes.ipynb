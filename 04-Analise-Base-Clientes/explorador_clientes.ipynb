{
 "cells": [
  {
   "cell_type": "markdown",
   "id": "a5de2321",
   "metadata": {},
   "source": [
    "# # Projeto 4: Primeira Análise da Base de Clientes (CRM)\n",
    "# \n",
    "# ## Objetivo\n",
    "# Realizar um diagnóstico inicial em um novo dataset de clientes para responder a perguntas de negócio fundamentais sobre a composição e a qualidade da base."
   ]
  },
  {
   "cell_type": "code",
   "execution_count": 29,
   "id": "db41ae27",
   "metadata": {},
   "outputs": [],
   "source": [
    "import pandas as pd\n",
    "\n",
    "df_clientes = pd.read_csv('clientes.csv')"
   ]
  },
  {
   "cell_type": "markdown",
   "id": "15e99989",
   "metadata": {},
   "source": [
    "# ## Análise Exploratória Inicial\n",
    "# Primeiro, vamos usar os métodos `.head()` e `.info()` para ter uma visão geral da estrutura e da qualidade dos dados."
   ]
  },
  {
   "cell_type": "code",
   "execution_count": 30,
   "id": "59f8fe87",
   "metadata": {},
   "outputs": [
    {
     "data": {
      "text/html": [
       "<div>\n",
       "<style scoped>\n",
       "    .dataframe tbody tr th:only-of-type {\n",
       "        vertical-align: middle;\n",
       "    }\n",
       "\n",
       "    .dataframe tbody tr th {\n",
       "        vertical-align: top;\n",
       "    }\n",
       "\n",
       "    .dataframe thead th {\n",
       "        text-align: right;\n",
       "    }\n",
       "</style>\n",
       "<table border=\"1\" class=\"dataframe\">\n",
       "  <thead>\n",
       "    <tr style=\"text-align: right;\">\n",
       "      <th></th>\n",
       "      <th>ID_Cliente</th>\n",
       "      <th>Nome</th>\n",
       "      <th>Email</th>\n",
       "      <th>Pais</th>\n",
       "      <th>Data_Cadastro</th>\n",
       "      <th>Gasto_Total</th>\n",
       "    </tr>\n",
       "  </thead>\n",
       "  <tbody>\n",
       "    <tr>\n",
       "      <th>0</th>\n",
       "      <td>1</td>\n",
       "      <td>Ana Silva</td>\n",
       "      <td>ana.silva@email.com</td>\n",
       "      <td>Brasil</td>\n",
       "      <td>2024-01-15</td>\n",
       "      <td>1500.50</td>\n",
       "    </tr>\n",
       "    <tr>\n",
       "      <th>1</th>\n",
       "      <td>2</td>\n",
       "      <td>John Smith</td>\n",
       "      <td>john.smith@email.com</td>\n",
       "      <td>EUA</td>\n",
       "      <td>2024-02-20</td>\n",
       "      <td>800.00</td>\n",
       "    </tr>\n",
       "    <tr>\n",
       "      <th>2</th>\n",
       "      <td>3</td>\n",
       "      <td>Maria Garcia</td>\n",
       "      <td>maria.garcia@email.com</td>\n",
       "      <td>Espanha</td>\n",
       "      <td>2024-03-10</td>\n",
       "      <td>2200.75</td>\n",
       "    </tr>\n",
       "    <tr>\n",
       "      <th>3</th>\n",
       "      <td>4</td>\n",
       "      <td>Ken Adams</td>\n",
       "      <td>ken.adams@email.com</td>\n",
       "      <td>EUA</td>\n",
       "      <td>2024-04-05</td>\n",
       "      <td>500.25</td>\n",
       "    </tr>\n",
       "    <tr>\n",
       "      <th>4</th>\n",
       "      <td>5</td>\n",
       "      <td>Lara Croft</td>\n",
       "      <td>lara.croft@email.com</td>\n",
       "      <td>Reino Unido</td>\n",
       "      <td>2024-05-22</td>\n",
       "      <td>950.00</td>\n",
       "    </tr>\n",
       "  </tbody>\n",
       "</table>\n",
       "</div>"
      ],
      "text/plain": [
       "   ID_Cliente          Nome                   Email         Pais  \\\n",
       "0           1     Ana Silva     ana.silva@email.com       Brasil   \n",
       "1           2    John Smith    john.smith@email.com          EUA   \n",
       "2           3  Maria Garcia  maria.garcia@email.com      Espanha   \n",
       "3           4     Ken Adams     ken.adams@email.com          EUA   \n",
       "4           5    Lara Croft    lara.croft@email.com  Reino Unido   \n",
       "\n",
       "  Data_Cadastro  Gasto_Total  \n",
       "0    2024-01-15      1500.50  \n",
       "1    2024-02-20       800.00  \n",
       "2    2024-03-10      2200.75  \n",
       "3    2024-04-05       500.25  \n",
       "4    2024-05-22       950.00  "
      ]
     },
     "metadata": {},
     "output_type": "display_data"
    },
    {
     "name": "stdout",
     "output_type": "stream",
     "text": [
      "\n",
      "--- Informações Gerais do DataFrame ---\n",
      "<class 'pandas.core.frame.DataFrame'>\n",
      "RangeIndex: 8 entries, 0 to 7\n",
      "Data columns (total 6 columns):\n",
      " #   Column         Non-Null Count  Dtype  \n",
      "---  ------         --------------  -----  \n",
      " 0   ID_Cliente     8 non-null      int64  \n",
      " 1   Nome           8 non-null      object \n",
      " 2   Email          8 non-null      object \n",
      " 3   Pais           7 non-null      object \n",
      " 4   Data_Cadastro  8 non-null      object \n",
      " 5   Gasto_Total    8 non-null      float64\n",
      "dtypes: float64(1), int64(1), object(4)\n",
      "memory usage: 516.0+ bytes\n"
     ]
    }
   ],
   "source": [
    "display(df_clientes.head())\n",
    "print(\"\\n--- Informações Gerais do DataFrame ---\")\n",
    "df_clientes.info()"
   ]
  },
  {
   "cell_type": "markdown",
   "id": "c816aceb",
   "metadata": {},
   "source": [
    "# ## Perguntas de Negócio\n",
    "\n",
    "# ### 1. Quantos clientes estão na base de dados?"
   ]
  },
  {
   "cell_type": "code",
   "execution_count": 31,
   "id": "cda9eafa",
   "metadata": {},
   "outputs": [
    {
     "name": "stdout",
     "output_type": "stream",
     "text": [
      "Resposta: Existem 8 clientes na base de dados.\n"
     ]
    }
   ],
   "source": [
    "# O atributo .shape retorna uma tupla (linhas, colunas). O número de linhas corresponde ao de clientes.\n",
    "num_clientes = df_clientes.shape[0]\n",
    "print(f'Resposta: Existem {num_clientes} clientes na base de dados.')"
   ]
  },
  {
   "cell_type": "markdown",
   "id": "0e21fdef",
   "metadata": {},
   "source": [
    "# ### 2. Quais colunas possuem dados faltantes?"
   ]
  },
  {
   "cell_type": "code",
   "execution_count": 32,
   "id": "4bb75fc2",
   "metadata": {},
   "outputs": [
    {
     "name": "stdout",
     "output_type": "stream",
     "text": [
      "Resposta: A contagem de dados faltantes por coluna é:\n",
      "Pais    1\n",
      "dtype: int64\n"
     ]
    }
   ],
   "source": [
    "# O método .isnull().sum() nos dá uma contagem direta de valores nulos por coluna.\n",
    "dados_faltantes = df_clientes.isnull().sum()\n",
    "print(\"Resposta: A contagem de dados faltantes por coluna é:\")\n",
    "\n",
    "# Filtramos para mostrar apenas as colunas que de fato têm dados faltantes\n",
    "print(dados_faltantes[dados_faltantes > 0])"
   ]
  },
  {
   "cell_type": "markdown",
   "id": "a1cb08b7",
   "metadata": {},
   "source": [
    "# ### 3. De quais países vêm a maioria dos nossos clientes?"
   ]
  },
  {
   "cell_type": "code",
   "execution_count": 33,
   "id": "5ed44b2e",
   "metadata": {},
   "outputs": [
    {
     "name": "stdout",
     "output_type": "stream",
     "text": [
      "Resposta: A distribuição de clientes por país é a seguinte:\n"
     ]
    },
    {
     "data": {
      "text/plain": [
       "Pais\n",
       "EUA            3\n",
       "Brasil         1\n",
       "Espanha        1\n",
       "Reino Unido    1\n",
       "Japao          1\n",
       "Name: count, dtype: int64"
      ]
     },
     "metadata": {},
     "output_type": "display_data"
    },
    {
     "name": "stdout",
     "output_type": "stream",
     "text": [
      "\n",
      "O país com a maioria dos clientes é: EUA\n"
     ]
    }
   ],
   "source": [
    "# O método .value_counts() é a ferramenta ideal para contar a frequência de cada valor em uma coluna.\n",
    "contagem_paises = df_clientes['Pais'].value_counts()\n",
    "print(\"Resposta: A distribuição de clientes por país é a seguinte:\")\n",
    "display(contagem_paises)\n",
    "\n",
    "pais_maioria = contagem_paises.index[0] # .index[0] pega o primeiro item do índice (o país com maior contagem)\n",
    "print(f\"\\nO país com a maioria dos clientes é: {pais_maioria}\")"
   ]
  }
 ],
 "metadata": {
  "kernelspec": {
   "display_name": "base",
   "language": "python",
   "name": "python3"
  },
  "language_info": {
   "codemirror_mode": {
    "name": "ipython",
    "version": 3
   },
   "file_extension": ".py",
   "mimetype": "text/x-python",
   "name": "python",
   "nbconvert_exporter": "python",
   "pygments_lexer": "ipython3",
   "version": "3.13.5"
  }
 },
 "nbformat": 4,
 "nbformat_minor": 5
}
