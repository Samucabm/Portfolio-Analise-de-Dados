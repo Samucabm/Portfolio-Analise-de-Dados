{
 "cells": [
  {
   "cell_type": "markdown",
   "id": "8aa8b05c",
   "metadata": {},
   "source": [
    "# Project 7: E-commerce Product Performance Diagnosis\n",
    "The objective of this analysis is to process a large transactional dataset from an e-commerce business to identify the top 5 best-performing and bottom 5 worst-performing products by revenue. This will provide actionable recommendations for inventory and marketing teams."
   ]
  },
  {
   "cell_type": "code",
   "execution_count": 174,
   "id": "be26d926",
   "metadata": {},
   "outputs": [
    {
     "data": {
      "text/html": [
       "<div>\n",
       "<style scoped>\n",
       "    .dataframe tbody tr th:only-of-type {\n",
       "        vertical-align: middle;\n",
       "    }\n",
       "\n",
       "    .dataframe tbody tr th {\n",
       "        vertical-align: top;\n",
       "    }\n",
       "\n",
       "    .dataframe thead th {\n",
       "        text-align: right;\n",
       "    }\n",
       "</style>\n",
       "<table border=\"1\" class=\"dataframe\">\n",
       "  <thead>\n",
       "    <tr style=\"text-align: right;\">\n",
       "      <th></th>\n",
       "      <th>Invoice</th>\n",
       "      <th>StockCode</th>\n",
       "      <th>Description</th>\n",
       "      <th>Quantity</th>\n",
       "      <th>InvoiceDate</th>\n",
       "      <th>Price</th>\n",
       "      <th>Customer ID</th>\n",
       "      <th>Country</th>\n",
       "    </tr>\n",
       "  </thead>\n",
       "  <tbody>\n",
       "    <tr>\n",
       "      <th>0</th>\n",
       "      <td>489434</td>\n",
       "      <td>85048</td>\n",
       "      <td>15CM CHRISTMAS GLASS BALL 20 LIGHTS</td>\n",
       "      <td>12</td>\n",
       "      <td>2009-12-01 07:45:00</td>\n",
       "      <td>6.95</td>\n",
       "      <td>13085.0</td>\n",
       "      <td>United Kingdom</td>\n",
       "    </tr>\n",
       "    <tr>\n",
       "      <th>1</th>\n",
       "      <td>489434</td>\n",
       "      <td>79323P</td>\n",
       "      <td>PINK CHERRY LIGHTS</td>\n",
       "      <td>12</td>\n",
       "      <td>2009-12-01 07:45:00</td>\n",
       "      <td>6.75</td>\n",
       "      <td>13085.0</td>\n",
       "      <td>United Kingdom</td>\n",
       "    </tr>\n",
       "    <tr>\n",
       "      <th>2</th>\n",
       "      <td>489434</td>\n",
       "      <td>79323W</td>\n",
       "      <td>WHITE CHERRY LIGHTS</td>\n",
       "      <td>12</td>\n",
       "      <td>2009-12-01 07:45:00</td>\n",
       "      <td>6.75</td>\n",
       "      <td>13085.0</td>\n",
       "      <td>United Kingdom</td>\n",
       "    </tr>\n",
       "    <tr>\n",
       "      <th>3</th>\n",
       "      <td>489434</td>\n",
       "      <td>22041</td>\n",
       "      <td>RECORD FRAME 7\" SINGLE SIZE</td>\n",
       "      <td>48</td>\n",
       "      <td>2009-12-01 07:45:00</td>\n",
       "      <td>2.10</td>\n",
       "      <td>13085.0</td>\n",
       "      <td>United Kingdom</td>\n",
       "    </tr>\n",
       "    <tr>\n",
       "      <th>4</th>\n",
       "      <td>489434</td>\n",
       "      <td>21232</td>\n",
       "      <td>STRAWBERRY CERAMIC TRINKET BOX</td>\n",
       "      <td>24</td>\n",
       "      <td>2009-12-01 07:45:00</td>\n",
       "      <td>1.25</td>\n",
       "      <td>13085.0</td>\n",
       "      <td>United Kingdom</td>\n",
       "    </tr>\n",
       "  </tbody>\n",
       "</table>\n",
       "</div>"
      ],
      "text/plain": [
       "  Invoice StockCode                          Description  Quantity  \\\n",
       "0  489434     85048  15CM CHRISTMAS GLASS BALL 20 LIGHTS        12   \n",
       "1  489434    79323P                   PINK CHERRY LIGHTS        12   \n",
       "2  489434    79323W                  WHITE CHERRY LIGHTS        12   \n",
       "3  489434     22041         RECORD FRAME 7\" SINGLE SIZE         48   \n",
       "4  489434     21232       STRAWBERRY CERAMIC TRINKET BOX        24   \n",
       "\n",
       "           InvoiceDate  Price  Customer ID         Country  \n",
       "0  2009-12-01 07:45:00   6.95      13085.0  United Kingdom  \n",
       "1  2009-12-01 07:45:00   6.75      13085.0  United Kingdom  \n",
       "2  2009-12-01 07:45:00   6.75      13085.0  United Kingdom  \n",
       "3  2009-12-01 07:45:00   2.10      13085.0  United Kingdom  \n",
       "4  2009-12-01 07:45:00   1.25      13085.0  United Kingdom  "
      ]
     },
     "metadata": {},
     "output_type": "display_data"
    }
   ],
   "source": [
    "import pandas as pd\n",
    "\n",
    "# Load the original dataset\n",
    "df_original = pd.read_csv('online_retail_II.csv')\n",
    "\n",
    "# Display the first few rows for an initial overview\n",
    "display(df_original.head())"
   ]
  },
  {
   "cell_type": "markdown",
   "id": "26837aa7",
   "metadata": {},
   "source": [
    "## 1. Data Cleaning and Pre-processing\n",
    "Before any analysis, we must clean the raw data to ensure its quality and integrity. This process involves handling null values in critical columns, and filtering out invalid transactions such as returns (negative quantity) or items with zero price."
   ]
  },
  {
   "cell_type": "code",
   "execution_count": 175,
   "id": "51f27f05",
   "metadata": {},
   "outputs": [
    {
     "name": "stdout",
     "output_type": "stream",
     "text": [
      "DataFrame structure after cleaning:\n",
      "<class 'pandas.core.frame.DataFrame'>\n",
      "Index: 1041671 entries, 0 to 1067370\n",
      "Data columns (total 8 columns):\n",
      " #   Column       Non-Null Count    Dtype  \n",
      "---  ------       --------------    -----  \n",
      " 0   Invoice      1041671 non-null  object \n",
      " 1   StockCode    1041671 non-null  object \n",
      " 2   Description  1041671 non-null  object \n",
      " 3   Quantity     1041671 non-null  int64  \n",
      " 4   InvoiceDate  1041671 non-null  object \n",
      " 5   Price        1041671 non-null  float64\n",
      " 6   Customer ID  805549 non-null   float64\n",
      " 7   Country      1041671 non-null  object \n",
      "dtypes: float64(2), int64(1), object(5)\n",
      "memory usage: 71.5+ MB\n"
     ]
    }
   ],
   "source": [
    "# Chaining the cleaning operations for an efficient workflow\n",
    "df_clean = (\n",
    "    df_original\n",
    "    .dropna(subset=['Description'])          # Remove rows with no product description\n",
    "    .loc[df_original['Quantity'] > 0]        # Filter for sales only (positive quantity)\n",
    "    .loc[df_original['Price'] > 0]           # Filter for items with a positive price\n",
    "    .copy()                                  # Create an explicit copy to avoid warnings\n",
    ")\n",
    "\n",
    "# Check the info of the cleaned DataFrame\n",
    "print(\"DataFrame structure after cleaning:\")\n",
    "df_clean.info()"
   ]
  },
  {
   "cell_type": "markdown",
   "id": "e9e36898",
   "metadata": {},
   "source": [
    "## 2. Feature Engineering: Creating the 'Revenue' Column\n",
    "To analyze performance based on revenue, we first need to create a `Revenue` column. This is achieved by multiplying the `Quantity` of each item by its unit `Price`."
   ]
  },
  {
   "cell_type": "code",
   "execution_count": 176,
   "id": "a9eeb8fd",
   "metadata": {},
   "outputs": [
    {
     "data": {
      "text/html": [
       "<div>\n",
       "<style scoped>\n",
       "    .dataframe tbody tr th:only-of-type {\n",
       "        vertical-align: middle;\n",
       "    }\n",
       "\n",
       "    .dataframe tbody tr th {\n",
       "        vertical-align: top;\n",
       "    }\n",
       "\n",
       "    .dataframe thead th {\n",
       "        text-align: right;\n",
       "    }\n",
       "</style>\n",
       "<table border=\"1\" class=\"dataframe\">\n",
       "  <thead>\n",
       "    <tr style=\"text-align: right;\">\n",
       "      <th></th>\n",
       "      <th>Description</th>\n",
       "      <th>Quantity</th>\n",
       "      <th>Price</th>\n",
       "      <th>Revenue</th>\n",
       "    </tr>\n",
       "  </thead>\n",
       "  <tbody>\n",
       "    <tr>\n",
       "      <th>0</th>\n",
       "      <td>15CM CHRISTMAS GLASS BALL 20 LIGHTS</td>\n",
       "      <td>12</td>\n",
       "      <td>6.95</td>\n",
       "      <td>83.4</td>\n",
       "    </tr>\n",
       "    <tr>\n",
       "      <th>1</th>\n",
       "      <td>PINK CHERRY LIGHTS</td>\n",
       "      <td>12</td>\n",
       "      <td>6.75</td>\n",
       "      <td>81.0</td>\n",
       "    </tr>\n",
       "    <tr>\n",
       "      <th>2</th>\n",
       "      <td>WHITE CHERRY LIGHTS</td>\n",
       "      <td>12</td>\n",
       "      <td>6.75</td>\n",
       "      <td>81.0</td>\n",
       "    </tr>\n",
       "    <tr>\n",
       "      <th>3</th>\n",
       "      <td>RECORD FRAME 7\" SINGLE SIZE</td>\n",
       "      <td>48</td>\n",
       "      <td>2.10</td>\n",
       "      <td>100.8</td>\n",
       "    </tr>\n",
       "    <tr>\n",
       "      <th>4</th>\n",
       "      <td>STRAWBERRY CERAMIC TRINKET BOX</td>\n",
       "      <td>24</td>\n",
       "      <td>1.25</td>\n",
       "      <td>30.0</td>\n",
       "    </tr>\n",
       "  </tbody>\n",
       "</table>\n",
       "</div>"
      ],
      "text/plain": [
       "                           Description  Quantity  Price  Revenue\n",
       "0  15CM CHRISTMAS GLASS BALL 20 LIGHTS        12   6.95     83.4\n",
       "1                   PINK CHERRY LIGHTS        12   6.75     81.0\n",
       "2                  WHITE CHERRY LIGHTS        12   6.75     81.0\n",
       "3         RECORD FRAME 7\" SINGLE SIZE         48   2.10    100.8\n",
       "4       STRAWBERRY CERAMIC TRINKET BOX        24   1.25     30.0"
      ]
     },
     "metadata": {},
     "output_type": "display_data"
    }
   ],
   "source": [
    "df_clean['Revenue'] = df_clean['Quantity'] * df_clean['Price']\n",
    "\n",
    "# Display the first few rows to verify the new column\n",
    "display(df_clean[['Description', 'Quantity', 'Price', 'Revenue']].head())"
   ]
  },
  {
   "cell_type": "markdown",
   "id": "6cc517c4",
   "metadata": {},
   "source": [
    "## 3. Analysis: Product Aggregation and Ranking\n",
    "Here, we group the entire dataset by product description, sum the total revenue for each, and then sort the results to find the top and bottom performers. This aggregation is the core of our analysis."
   ]
  },
  {
   "cell_type": "code",
   "execution_count": 177,
   "id": "4e362e17",
   "metadata": {},
   "outputs": [],
   "source": [
    "# Group by product description, sum the revenue, and round the result\n",
    "revenue_by_product = (\n",
    "    df_clean\n",
    "    .groupby('Description')['Revenue']\n",
    "    .sum()\n",
    "    .round(2)\n",
    ")\n",
    "\n",
    "# Rank the top 5 best-selling products\n",
    "top_5_revenue = revenue_by_product.sort_values(ascending=False).head(5)\n",
    "\n",
    "# Rank the 5 worst-selling products\n",
    "bottom_5_revenue = revenue_by_product.sort_values(ascending=True).head(5)"
   ]
  },
  {
   "cell_type": "markdown",
   "id": "aa9d0c40",
   "metadata": {},
   "source": [
    "## 4. Results & Recommendations\n",
    "The final analysis reveals the top 5 and bottom 5 products by total revenue, providing clear insights for business strategy."
   ]
  },
  {
   "cell_type": "code",
   "execution_count": 178,
   "id": "c25e77d3",
   "metadata": {},
   "outputs": [
    {
     "name": "stdout",
     "output_type": "stream",
     "text": [
      "🏆 Top 5 Products by Revenue (Best Sellers)\n"
     ]
    },
    {
     "data": {
      "text/plain": [
       "Description\n",
       "REGENCY CAKESTAND 3 TIER              344563.25\n",
       "Manual                                341104.90\n",
       "DOTCOM POSTAGE                        322657.48\n",
       "WHITE HANGING HEART T-LIGHT HOLDER    266923.55\n",
       "PAPER CRAFT , LITTLE BIRDIE           168469.60\n",
       "Name: Revenue, dtype: float64"
      ]
     },
     "metadata": {},
     "output_type": "display_data"
    },
    {
     "name": "stdout",
     "output_type": "stream",
     "text": [
      "\n",
      "⚠️ 5 Products with Lowest Revenue (Underperformers)\n"
     ]
    },
    {
     "data": {
      "text/plain": [
       "Description\n",
       "PADS TO MATCH ALL CUSHIONS         0.02\n",
       "PINK HEART CHRISTMAS DECORATION    0.38\n",
       "HAPPY BIRTHDAY GINGER CAT CARD     0.38\n",
       "SET 12 COLOURING PENCILS DOILEY    0.65\n",
       "CAT W SUNGLASSES BLANK CARD        0.76\n",
       "Name: Revenue, dtype: float64"
      ]
     },
     "metadata": {},
     "output_type": "display_data"
    }
   ],
   "source": [
    "print(\"🏆 Top 5 Products by Revenue (Best Sellers)\")\n",
    "display(top_5_revenue)\n",
    "\n",
    "print(\"\\n⚠️ 5 Products with Lowest Revenue (Underperformers)\")\n",
    "display(bottom_5_revenue)"
   ]
  }
 ],
 "metadata": {
  "kernelspec": {
   "display_name": "base",
   "language": "python",
   "name": "python3"
  },
  "language_info": {
   "codemirror_mode": {
    "name": "ipython",
    "version": 3
   },
   "file_extension": ".py",
   "mimetype": "text/x-python",
   "name": "python",
   "nbconvert_exporter": "python",
   "pygments_lexer": "ipython3",
   "version": "3.13.5"
  }
 },
 "nbformat": 4,
 "nbformat_minor": 5
}
