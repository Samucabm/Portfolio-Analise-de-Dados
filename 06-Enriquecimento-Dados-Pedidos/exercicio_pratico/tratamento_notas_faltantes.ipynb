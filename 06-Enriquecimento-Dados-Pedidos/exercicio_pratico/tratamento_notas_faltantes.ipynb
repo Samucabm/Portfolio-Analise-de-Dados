{
 "cells": [
  {
   "cell_type": "markdown",
   "id": "eb420c7c",
   "metadata": {},
   "source": [
    "# Preenchendo Dados Faltantes.\n",
    "Em um DataFrame com notas de alunos, alguns valores estão faltando.\n",
    "Preencha as notas ausentes com a média da turma.\n",
    "Foco: Prática de .fillna() com um valor calculado."
   ]
  },
  {
   "cell_type": "code",
   "execution_count": 33,
   "id": "904727fd",
   "metadata": {},
   "outputs": [],
   "source": [
    "import pandas as pd\n",
    "df = pd.read_csv('notas_alunos.csv')"
   ]
  },
  {
   "cell_type": "code",
   "execution_count": 34,
   "id": "f75b16ae",
   "metadata": {},
   "outputs": [],
   "source": [
    "# --- Análise e Cálculo ---\n",
    "# Calcula a média APENAS da coluna que nos interessa.\n",
    "\n",
    "media_das_notas = df['Nota'].mean()"
   ]
  },
  {
   "cell_type": "code",
   "execution_count": 35,
   "id": "49e1f268",
   "metadata": {},
   "outputs": [],
   "source": [
    "# --- Preenchimento Específico ---\n",
    "# Aplica o .fillna() diretamente NA COLUNA 'Nota'.\n",
    "# Isso garante que nenhuma outra coluna do DataFrame seja afetada.\n",
    "\n",
    "df['Nota'] = df['Nota'].fillna(media_das_notas) "
   ]
  },
  {
   "cell_type": "code",
   "execution_count": 36,
   "id": "6cb913b8",
   "metadata": {},
   "outputs": [],
   "source": [
    "notas_certas = df.fillna(media_notas)"
   ]
  },
  {
   "cell_type": "code",
   "execution_count": 37,
   "id": "406462d1",
   "metadata": {},
   "outputs": [
    {
     "data": {
      "text/html": [
       "<div>\n",
       "<style scoped>\n",
       "    .dataframe tbody tr th:only-of-type {\n",
       "        vertical-align: middle;\n",
       "    }\n",
       "\n",
       "    .dataframe tbody tr th {\n",
       "        vertical-align: top;\n",
       "    }\n",
       "\n",
       "    .dataframe thead th {\n",
       "        text-align: right;\n",
       "    }\n",
       "</style>\n",
       "<table border=\"1\" class=\"dataframe\">\n",
       "  <thead>\n",
       "    <tr style=\"text-align: right;\">\n",
       "      <th></th>\n",
       "      <th>Aluno</th>\n",
       "      <th>Nota</th>\n",
       "    </tr>\n",
       "  </thead>\n",
       "  <tbody>\n",
       "    <tr>\n",
       "      <th>0</th>\n",
       "      <td>Ana</td>\n",
       "      <td>9.5</td>\n",
       "    </tr>\n",
       "    <tr>\n",
       "      <th>1</th>\n",
       "      <td>Bruno</td>\n",
       "      <td>7.0</td>\n",
       "    </tr>\n",
       "    <tr>\n",
       "      <th>2</th>\n",
       "      <td>Carlos</td>\n",
       "      <td>8.1</td>\n",
       "    </tr>\n",
       "    <tr>\n",
       "      <th>3</th>\n",
       "      <td>Daniela</td>\n",
       "      <td>8.5</td>\n",
       "    </tr>\n",
       "    <tr>\n",
       "      <th>4</th>\n",
       "      <td>Eduardo</td>\n",
       "      <td>6.0</td>\n",
       "    </tr>\n",
       "    <tr>\n",
       "      <th>5</th>\n",
       "      <td>Fernanda</td>\n",
       "      <td>8.1</td>\n",
       "    </tr>\n",
       "    <tr>\n",
       "      <th>6</th>\n",
       "      <td>Gustavo</td>\n",
       "      <td>10.0</td>\n",
       "    </tr>\n",
       "    <tr>\n",
       "      <th>7</th>\n",
       "      <td>Helena</td>\n",
       "      <td>7.5</td>\n",
       "    </tr>\n",
       "  </tbody>\n",
       "</table>\n",
       "</div>"
      ],
      "text/plain": [
       "      Aluno  Nota\n",
       "0       Ana   9.5\n",
       "1     Bruno   7.0\n",
       "2    Carlos   8.1\n",
       "3   Daniela   8.5\n",
       "4   Eduardo   6.0\n",
       "5  Fernanda   8.1\n",
       "6   Gustavo  10.0\n",
       "7    Helena   7.5"
      ]
     },
     "metadata": {},
     "output_type": "display_data"
    }
   ],
   "source": [
    "display(notas_certas.round(1))"
   ]
  }
 ],
 "metadata": {
  "kernelspec": {
   "display_name": "base",
   "language": "python",
   "name": "python3"
  },
  "language_info": {
   "codemirror_mode": {
    "name": "ipython",
    "version": 3
   },
   "file_extension": ".py",
   "mimetype": "text/x-python",
   "name": "python",
   "nbconvert_exporter": "python",
   "pygments_lexer": "ipython3",
   "version": "3.13.5"
  }
 },
 "nbformat": 4,
 "nbformat_minor": 5
}
