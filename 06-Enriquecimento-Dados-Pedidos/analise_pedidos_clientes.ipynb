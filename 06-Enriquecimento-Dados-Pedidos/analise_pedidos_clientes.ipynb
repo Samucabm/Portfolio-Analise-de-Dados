{
 "cells": [
  {
   "cell_type": "markdown",
   "id": "cc29e741",
   "metadata": {},
   "source": [
    "# Projeto 6: Enriquecimento de Dados para Análise de Marketing\n",
    "## Objetivo:\n",
    "### Combinar dados de pedidos e de clientes para descobrir em qual região os clientes gastam mais, em média. "
   ]
  },
  {
   "cell_type": "code",
   "execution_count": null,
   "id": "1aae8ff7",
   "metadata": {},
   "outputs": [],
   "source": [
    "import pandas as pd\n",
    "df_clientes = pd.read_csv('clientes_regiao.csv')\n",
    "df_pedidos = pd.read_csv('pedidos.csv')"
   ]
  },
  {
   "cell_type": "markdown",
   "id": "1c4c89da",
   "metadata": {},
   "source": [
    "## 1. Enriquecimento dos Dados com Merge\n",
    "### Para conectar os pedidos aos clientes, usaremos um `left merge`.\n",
    "### Isso garante que **todos os pedidos** sejam mantidos, mesmo aqueles sem um cliente correspondente."
   ]
  },
  {
   "cell_type": "code",
   "execution_count": 29,
   "id": "d003b911",
   "metadata": {},
   "outputs": [
    {
     "name": "stdout",
     "output_type": "stream",
     "text": [
      "--- Tabela Após o Merge ---\n"
     ]
    },
    {
     "data": {
      "text/html": [
       "<div>\n",
       "<style scoped>\n",
       "    .dataframe tbody tr th:only-of-type {\n",
       "        vertical-align: middle;\n",
       "    }\n",
       "\n",
       "    .dataframe tbody tr th {\n",
       "        vertical-align: top;\n",
       "    }\n",
       "\n",
       "    .dataframe thead th {\n",
       "        text-align: right;\n",
       "    }\n",
       "</style>\n",
       "<table border=\"1\" class=\"dataframe\">\n",
       "  <thead>\n",
       "    <tr style=\"text-align: right;\">\n",
       "      <th></th>\n",
       "      <th>ID_Pedido</th>\n",
       "      <th>ID_Cliente</th>\n",
       "      <th>Valor_Pedido</th>\n",
       "      <th>Nome</th>\n",
       "      <th>Regiao</th>\n",
       "    </tr>\n",
       "  </thead>\n",
       "  <tbody>\n",
       "    <tr>\n",
       "      <th>0</th>\n",
       "      <td>1001</td>\n",
       "      <td>1</td>\n",
       "      <td>250.00</td>\n",
       "      <td>Ana Silva</td>\n",
       "      <td>Sudeste</td>\n",
       "    </tr>\n",
       "    <tr>\n",
       "      <th>1</th>\n",
       "      <td>1002</td>\n",
       "      <td>2</td>\n",
       "      <td>150.50</td>\n",
       "      <td>John Smith</td>\n",
       "      <td>Norte</td>\n",
       "    </tr>\n",
       "    <tr>\n",
       "      <th>2</th>\n",
       "      <td>1003</td>\n",
       "      <td>1</td>\n",
       "      <td>75.25</td>\n",
       "      <td>Ana Silva</td>\n",
       "      <td>Sudeste</td>\n",
       "    </tr>\n",
       "    <tr>\n",
       "      <th>3</th>\n",
       "      <td>1004</td>\n",
       "      <td>3</td>\n",
       "      <td>500.00</td>\n",
       "      <td>Maria Garcia</td>\n",
       "      <td>Sudeste</td>\n",
       "    </tr>\n",
       "    <tr>\n",
       "      <th>4</th>\n",
       "      <td>1005</td>\n",
       "      <td>8</td>\n",
       "      <td>300.00</td>\n",
       "      <td>NaN</td>\n",
       "      <td>NaN</td>\n",
       "    </tr>\n",
       "    <tr>\n",
       "      <th>5</th>\n",
       "      <td>1006</td>\n",
       "      <td>2</td>\n",
       "      <td>200.00</td>\n",
       "      <td>John Smith</td>\n",
       "      <td>Norte</td>\n",
       "    </tr>\n",
       "  </tbody>\n",
       "</table>\n",
       "</div>"
      ],
      "text/plain": [
       "   ID_Pedido  ID_Cliente  Valor_Pedido          Nome   Regiao\n",
       "0       1001           1        250.00     Ana Silva  Sudeste\n",
       "1       1002           2        150.50    John Smith    Norte\n",
       "2       1003           1         75.25     Ana Silva  Sudeste\n",
       "3       1004           3        500.00  Maria Garcia  Sudeste\n",
       "4       1005           8        300.00           NaN      NaN\n",
       "5       1006           2        200.00    John Smith    Norte"
      ]
     },
     "metadata": {},
     "output_type": "display_data"
    }
   ],
   "source": [
    "df_completo = pd.merge(\n",
    "    left=df_pedidos,      # Tabela da esquerda (queremos manter todas as suas linhas)\n",
    "    right=df_clientes,    # Tabela da direita\n",
    "    on='ID_Cliente',      # Chave de junção\n",
    "    how='left'            # Método: mantenha tudo da esquerda!\n",
    ")\n",
    "print(\"--- Tabela Após o Merge ---\")\n",
    "display(df_completo)"
   ]
  },
  {
   "cell_type": "markdown",
   "id": "b9259df5",
   "metadata": {},
   "source": [
    "## 2. Tratamento de Dados Pós-Merge\n",
    "### O `left merge` criou uma linha com valores `NaN` (nulos) para o pedido do cliente 8, que não estava na nossa base de clientes.\n",
    "### Para a análise de gastos por região, essa linha não é útil, então vamos removê-la."
   ]
  },
  {
   "cell_type": "code",
   "execution_count": 30,
   "id": "8f665f3d",
   "metadata": {},
   "outputs": [
    {
     "name": "stdout",
     "output_type": "stream",
     "text": [
      "\n",
      "--- Tabela Pronta para Análise (sem nulos) ---\n"
     ]
    },
    {
     "data": {
      "text/html": [
       "<div>\n",
       "<style scoped>\n",
       "    .dataframe tbody tr th:only-of-type {\n",
       "        vertical-align: middle;\n",
       "    }\n",
       "\n",
       "    .dataframe tbody tr th {\n",
       "        vertical-align: top;\n",
       "    }\n",
       "\n",
       "    .dataframe thead th {\n",
       "        text-align: right;\n",
       "    }\n",
       "</style>\n",
       "<table border=\"1\" class=\"dataframe\">\n",
       "  <thead>\n",
       "    <tr style=\"text-align: right;\">\n",
       "      <th></th>\n",
       "      <th>ID_Pedido</th>\n",
       "      <th>ID_Cliente</th>\n",
       "      <th>Valor_Pedido</th>\n",
       "      <th>Nome</th>\n",
       "      <th>Regiao</th>\n",
       "    </tr>\n",
       "  </thead>\n",
       "  <tbody>\n",
       "    <tr>\n",
       "      <th>0</th>\n",
       "      <td>1001</td>\n",
       "      <td>1</td>\n",
       "      <td>250.00</td>\n",
       "      <td>Ana Silva</td>\n",
       "      <td>Sudeste</td>\n",
       "    </tr>\n",
       "    <tr>\n",
       "      <th>1</th>\n",
       "      <td>1002</td>\n",
       "      <td>2</td>\n",
       "      <td>150.50</td>\n",
       "      <td>John Smith</td>\n",
       "      <td>Norte</td>\n",
       "    </tr>\n",
       "    <tr>\n",
       "      <th>2</th>\n",
       "      <td>1003</td>\n",
       "      <td>1</td>\n",
       "      <td>75.25</td>\n",
       "      <td>Ana Silva</td>\n",
       "      <td>Sudeste</td>\n",
       "    </tr>\n",
       "    <tr>\n",
       "      <th>3</th>\n",
       "      <td>1004</td>\n",
       "      <td>3</td>\n",
       "      <td>500.00</td>\n",
       "      <td>Maria Garcia</td>\n",
       "      <td>Sudeste</td>\n",
       "    </tr>\n",
       "    <tr>\n",
       "      <th>5</th>\n",
       "      <td>1006</td>\n",
       "      <td>2</td>\n",
       "      <td>200.00</td>\n",
       "      <td>John Smith</td>\n",
       "      <td>Norte</td>\n",
       "    </tr>\n",
       "  </tbody>\n",
       "</table>\n",
       "</div>"
      ],
      "text/plain": [
       "   ID_Pedido  ID_Cliente  Valor_Pedido          Nome   Regiao\n",
       "0       1001           1        250.00     Ana Silva  Sudeste\n",
       "1       1002           2        150.50    John Smith    Norte\n",
       "2       1003           1         75.25     Ana Silva  Sudeste\n",
       "3       1004           3        500.00  Maria Garcia  Sudeste\n",
       "5       1006           2        200.00    John Smith    Norte"
      ]
     },
     "metadata": {},
     "output_type": "display_data"
    }
   ],
   "source": [
    "df_analise = df_completo.dropna()\n",
    "print(\"\\n--- Tabela Pronta para Análise (sem nulos) ---\")\n",
    "display(df_analise)"
   ]
  },
  {
   "cell_type": "markdown",
   "id": "7d48650c",
   "metadata": {},
   "source": [
    "## 3. Análise: Gasto Médio por Região\n",
    "### Agora, com a tabela limpa e completa, podemos usar o `.groupby()` para responder à nossa pergunta.\n",
    "### Vamos agrupar por 'Regiao' e calcular a **média** (`.mean()`) do 'Valor_Pedido'."
   ]
  },
  {
   "cell_type": "code",
   "execution_count": 31,
   "id": "19a5bd68",
   "metadata": {},
   "outputs": [
    {
     "name": "stdout",
     "output_type": "stream",
     "text": [
      "\n",
      "--- Resultado Final: Gasto Médio por Cliente em Cada Região ---\n"
     ]
    },
    {
     "data": {
      "text/plain": [
       "Regiao\n",
       "Sudeste    275.08\n",
       "Norte      175.25\n",
       "Name: Valor_Pedido, dtype: float64"
      ]
     },
     "metadata": {},
     "output_type": "display_data"
    },
    {
     "name": "stdout",
     "output_type": "stream",
     "text": [
      "\n",
      "Conclusão: A região onde os clientes gastam mais em média é a 'Sudeste'.\n"
     ]
    }
   ],
   "source": [
    "gasto_medio_regiao = df_analise.groupby('Regiao')['Valor_Pedido'].mean().round(2)\n",
    "\n",
    "# Ordena os resultados para encontrar a maior média facilmente\n",
    "gasto_medio_regiao_ordenado = gasto_medio_regiao.sort_values(ascending=False)\n",
    "\n",
    "print(\"\\n--- Resultado Final: Gasto Médio por Cliente em Cada Região ---\")\n",
    "display(gasto_medio_regiao_ordenado)\n",
    "\n",
    "regiao_campea = gasto_medio_regiao_ordenado.index[0]\n",
    "print(f\"\\nConclusão: A região onde os clientes gastam mais em média é a '{regiao_campea}'.\")"
   ]
  }
 ],
 "metadata": {
  "kernelspec": {
   "display_name": "base",
   "language": "python",
   "name": "python3"
  },
  "language_info": {
   "codemirror_mode": {
    "name": "ipython",
    "version": 3
   },
   "file_extension": ".py",
   "mimetype": "text/x-python",
   "name": "python",
   "nbconvert_exporter": "python",
   "pygments_lexer": "ipython3",
   "version": "3.13.5"
  }
 },
 "nbformat": 4,
 "nbformat_minor": 5
}
