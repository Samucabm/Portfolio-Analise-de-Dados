{
 "cells": [
  {
   "cell_type": "markdown",
   "id": "2dda8359",
   "metadata": {},
   "source": [
    "# Projeto Principal (Portfólio): \"Simulação e Análise de Performance de Campanhas de Marketing (Teste A/B).\"\n",
    "## Descrição:\n",
    " Crie dois arrays NumPy para simular os resultados de cliques diários de duas campanhas de marketing. Calcule a média de cliques, o desvio padrão e o total de cliques para cada uma. Apresente um resumo concluindo qual campanha foi mais estável e teve melhor performance."
   ]
  },
  {
   "cell_type": "code",
   "execution_count": 19,
   "id": "06dbc133",
   "metadata": {},
   "outputs": [],
   "source": [
    "import numpy as np"
   ]
  },
  {
   "cell_type": "code",
   "execution_count": 20,
   "id": "13122331",
   "metadata": {},
   "outputs": [],
   "source": [
    "def analisar_campanha(dados_campanha):\n",
    "    \"\"\"\n",
    "    Recebe um array de cliques e retorna um dicionário com as principais métricas.\n",
    "\n",
    "    Args:\n",
    "        dados_campanha (np.array): Um array NumPy com os cliques diários.\n",
    "\n",
    "    Returns:\n",
    "        dict: Um dicionário contendo a média, desvio padrão e total de cliques.\n",
    "    \"\"\"\n",
    "    media = dados_campanha.mean()\n",
    "    desvio_padrao = dados_campanha.std()\n",
    "    total = dados_campanha.sum()\n",
    "    \n",
    "    return {\n",
    "        'media': media,\n",
    "        'desvio_padrao': desvio_padrao,\n",
    "        'total': total\n",
    "    }"
   ]
  },
  {
   "cell_type": "code",
   "execution_count": 21,
   "id": "c10f91b9",
   "metadata": {},
   "outputs": [],
   "source": [
    "# --- Dados de Entrada ---\n",
    "# Simula os cliques diários de duas campanhas de marketing.\n",
    "cliques_campanha1 = np.array([523, 540, 530, 601, 560])\n",
    "cliques_campanha2 = np.array([620, 604, 598, 613, 607])\n",
    "\n",
    "# --- Processamento ---\n",
    "# Chama a função de análise para cada campanha, armazenando os resultados.\n",
    "resultados_c1 = analisar_campanha(cliques_campanha1)\n",
    "resultados_c2 = analisar_campanha(cliques_campanha2)"
   ]
  },
  {
   "cell_type": "code",
   "execution_count": 22,
   "id": "097bc65b",
   "metadata": {},
   "outputs": [
    {
     "name": "stdout",
     "output_type": "stream",
     "text": [
      "\n",
      "--- Relatório de Performance das Campanhas ---\n",
      "\n",
      "[ Campanha 1 ]\n",
      "Média de cliques diários: 550.80\n",
      "Desvio Padrão: 28.02\n",
      "Total de Cliques: 2754\n",
      "\n",
      "[ Campanha 2 ]\n",
      "Média de cliques diários: 608.40\n",
      "Desvio Padrão: 7.55\n",
      "Total de Cliques: 3042\n",
      "\n",
      "----------------------------------------------\n"
     ]
    }
   ],
   "source": [
    "# --- Apresentação dos Resultados ---\n",
    "print(\"\\n--- Relatório de Performance das Campanhas ---\")\n",
    "\n",
    "print(\"\\n[ Campanha 1 ]\")\n",
    "print(f\"Média de cliques diários: {resultados_c1['media']:.2f}\")\n",
    "print(f\"Desvio Padrão: {resultados_c1['desvio_padrao']:.2f}\")\n",
    "print(f\"Total de Cliques: {resultados_c1['total']}\")\n",
    "\n",
    "print(\"\\n[ Campanha 2 ]\")\n",
    "print(f\"Média de cliques diários: {resultados_c2['media']:.2f}\")\n",
    "print(f\"Desvio Padrão: {resultados_c2['desvio_padrao']:.2f}\")\n",
    "print(f\"Total de Cliques: {resultados_c2['total']}\")\n",
    "\n",
    "print(\"\\n----------------------------------------------\")"
   ]
  },
  {
   "cell_type": "code",
   "execution_count": 23,
   "id": "5146c08f",
   "metadata": {},
   "outputs": [
    {
     "name": "stdout",
     "output_type": "stream",
     "text": [
      "\n",
      "[ Conclusão ]\n",
      "- Performance: A Campanha 2 teve uma performance superior, com uma média de cliques maior.\n",
      "- Estabilidade: A Campanha 2 foi mais estável, pois apresentou menor variação nos cliques diários (menor desvio padrão).\n",
      "\n",
      "[ Recomendação Final ]\n",
      "Com base na análise, a Campanha 2 é a vencedora, pois combina maior performance com maior estabilidade.\n"
     ]
    }
   ],
   "source": [
    "# --- Conclusão Automática ---\n",
    "# O programa agora toma a decisão com base nas métricas.\n",
    "print(\"\\n[ Conclusão ]\")\n",
    "    \n",
    "# Compara a performance (usando a média como indicador principal)\n",
    "if resultados_c2['media'] > resultados_c1['media']:\n",
    "    print(\"- Performance: A Campanha 2 teve uma performance superior, com uma média de cliques maior.\")\n",
    "else:\n",
    "    print(\"- Performance: A Campanha 1 teve uma performance superior, com uma média de cliques maior.\")\n",
    "    \n",
    "# Compara a estabilidade (usando o desvio padrão)\n",
    "if resultados_c2['desvio_padrao'] < resultados_c1['desvio_padrao']:\n",
    "    print(\"- Estabilidade: A Campanha 2 foi mais estável, pois apresentou menor variação nos cliques diários (menor desvio padrão).\")\n",
    "else:\n",
    "    print(\"- Estabilidade: A Campanha 1 foi mais estável, pois apresentou menor variação nos cliques diários (menor desvio padrão).\")\n",
    "    \n",
    "print(\"\\n[ Recomendação Final ]\")\n",
    "print(\"Com base na análise, a Campanha 2 é a vencedora, pois combina maior performance com maior estabilidade.\")"
   ]
  }
 ],
 "metadata": {
  "kernelspec": {
   "display_name": "dados",
   "language": "python",
   "name": "python3"
  },
  "language_info": {
   "codemirror_mode": {
    "name": "ipython",
    "version": 3
   },
   "file_extension": ".py",
   "mimetype": "text/x-python",
   "name": "python",
   "nbconvert_exporter": "python",
   "pygments_lexer": "ipython3",
   "version": "3.13.7"
  }
 },
 "nbformat": 4,
 "nbformat_minor": 5
}
